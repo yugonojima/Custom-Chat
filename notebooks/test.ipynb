{
 "cells": [
  {
   "cell_type": "code",
   "execution_count": 12,
   "metadata": {},
   "outputs": [],
   "source": [
    "import os\n",
    "import requests\n",
    "from dotenv import load_dotenv\n",
    "from openai import (\n",
    "    OpenAI,\n",
    "    AzureOpenAI\n",
    ")\n",
    "from langchain_openai import (\n",
    "  AzureOpenAIEmbeddings,\n",
    "  AzureChatOpenAI,\n",
    ")\n",
    "\n",
    "from langchain_core.messages import (\n",
    "    HumanMessage, \n",
    "    AIMessage,\n",
    "    SystemMessage\n",
    ")\n",
    "\n",
    "load_dotenv('./../.env', override=True)\n",
    "AIservice_key = os.getenv('AZURE_AISERVICE_API_KEY')\n",
    "AIservice_endpoint = os.getenv('AZURE_AISERVICE_ENDPOINT')\n",
    "openAI_key = os.getenv('AZURE_OPENAI_API_KEY')\n",
    "openAI_endpoint = os.getenv('AZURE_OPENAI_ENDPOINT')\n",
    "\n",
    "\n",
    "if AIservice_key != \"\":\n",
    "    model = AzureChatOpenAI(\n",
    "        api_key=AIservice_key,\n",
    "        azure_deployment=\"gpt-4\",\n",
    "        openai_api_version=\"2024-10-21\",\n",
    "        azure_endpoint=AIservice_endpoint)\n",
    "    "
   ]
  },
  {
   "cell_type": "code",
   "execution_count": null,
   "metadata": {},
   "outputs": [],
   "source": [
    "messages = [\n",
    "    SystemMessage(content=\"あなたは役に立つアシスタントだ。\"),\n",
    "    HumanMessage(content=\"Azure OpenAIはcustomer managed keysをサポートしていますか？\"),\n",
    "    AIMessage(content=\"はい、customer managed keysはAzure OpenAIでサポートされています。\"),\n",
    "    HumanMessage(content=\"他のAzure AIサービスもこれをサポートしていますか？\")\n",
    "]\n",
    "\n",
    "result = model.invoke(messages)\n",
    "print(result)"
   ]
  },
  {
   "cell_type": "code",
   "execution_count": null,
   "metadata": {},
   "outputs": [],
   "source": [
    "import os\n",
    "from langchain_openai import (\n",
    "    AzureOpenAIEmbeddings,\n",
    "    OpenAIEmbeddings\n",
    ")\n",
    "\n",
    "from dotenv import load_dotenv\n",
    "load_dotenv('../.env')"
   ]
  },
  {
   "cell_type": "code",
   "execution_count": 9,
   "metadata": {},
   "outputs": [],
   "source": [
    "## モデルの取得\n",
    "# 3. OpenAIのembeddingモデル取得\n",
    "embeddings = None\n",
    "if openAI_key != \"\":\n",
    "    # Azureの場合\n",
    "    embeddings = AzureOpenAIEmbeddings(\n",
    "        api_key=openAI_key,\n",
    "        azure_deployment=\"text-embedding-ada-002\", # Azureのデプロイメント名\n",
    "        # openai_api_version=\"2024-10-21\", # OpenAIのAPIバージョン\n",
    "        azure_endpoint=openAI_endpoint\n",
    "    )\n",
    "else:\n",
    "    print(\"APIKeyの設定を確認してください\")"
   ]
  },
  {
   "cell_type": "code",
   "execution_count": null,
   "metadata": {},
   "outputs": [],
   "source": [
    "text = \"これはテスト用のドキュメントです。\"\n",
    "\n",
    "query_result = embeddings.embed_query(text)\n",
    "print(f\"サイズ:{len(query_result)}\")\n",
    "print(f\"5のみ確認\")\n",
    "print(query_result[:5])"
   ]
  }
 ],
 "metadata": {
  "kernelspec": {
   "display_name": "Python 3",
   "language": "python",
   "name": "python3"
  },
  "language_info": {
   "codemirror_mode": {
    "name": "ipython",
    "version": 3
   },
   "file_extension": ".py",
   "mimetype": "text/x-python",
   "name": "python",
   "nbconvert_exporter": "python",
   "pygments_lexer": "ipython3",
   "version": "3.10.16"
  }
 },
 "nbformat": 4,
 "nbformat_minor": 2
}

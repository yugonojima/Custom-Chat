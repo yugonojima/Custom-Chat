{
 "cells": [
  {
   "cell_type": "code",
   "execution_count": 12,
   "metadata": {},
   "outputs": [],
   "source": [
    "import os\n",
    "import requests\n",
    "from dotenv import load_dotenv\n",
    "from openai import (\n",
    "    OpenAI,\n",
    "    AzureOpenAI\n",
    ")\n",
    "from langchain_openai import (\n",
    "  AzureOpenAIEmbeddings,\n",
    "  AzureChatOpenAI,\n",
    ")\n",
    "\n",
    "from langchain_core.messages import (\n",
    "    HumanMessage, \n",
    "    AIMessage,\n",
    "    SystemMessage\n",
    ")\n",
    "\n",
    "load_dotenv('./../.env', override=True)\n",
    "AIservice_key = os.getenv('AZURE_AISERVICE_API_KEY')\n",
    "AIservice_endpoint = os.getenv('AZURE_AISERVICE_ENDPOINT')\n",
    "openAI_key = os.getenv('AZURE_OPENAI_API_KEY')\n",
    "openAI_endpoint = os.getenv('AZURE_OPENAI_ENDPOINT')\n",
    "\n",
    "\n",
    "if AIservice_key != \"\":\n",
    "    model = AzureChatOpenAI(\n",
    "        api_key=AIservice_key,\n",
    "        azure_deployment=\"gpt-4\",\n",
    "        openai_api_version=\"2024-10-21\",\n",
    "        azure_endpoint=AIservice_endpoint)\n",
    "    "
   ]
  },
  {
   "cell_type": "code",
   "execution_count": 2,
   "metadata": {},
   "outputs": [
    {
     "name": "stdout",
     "output_type": "stream",
     "text": [
      "content='はい、他の多くのAzure AIサービスもcustomer managed keys (CMK) をサポートしています。たとえば、Azure Cognitive ServicesはCMKを利用することができ、ユーザーが自分の暗号化キーを管理し、データのセキュリティを強化することが可能です。サービスによっては、CMKの設定方法やサポートの範囲が異なることがあるため、具体的なサービスのドキュメントを確認することをお勧めします。' response_metadata={'token_usage': {'completion_tokens': 156, 'prompt_tokens': 86, 'total_tokens': 242, 'completion_tokens_details': None, 'prompt_tokens_details': None}, 'model_name': 'gpt-4-turbo-2024-04-09', 'system_fingerprint': 'fp_5603ee5e2e', 'prompt_filter_results': [{'prompt_index': 0, 'content_filter_results': {'hate': {'filtered': False, 'severity': 'safe'}, 'jailbreak': {'filtered': False, 'detected': False}, 'self_harm': {'filtered': False, 'severity': 'safe'}, 'sexual': {'filtered': False, 'severity': 'safe'}, 'violence': {'filtered': False, 'severity': 'safe'}}}], 'finish_reason': 'stop', 'logprobs': None, 'content_filter_results': {'hate': {'filtered': False, 'severity': 'safe'}, 'self_harm': {'filtered': False, 'severity': 'safe'}, 'sexual': {'filtered': False, 'severity': 'safe'}, 'violence': {'filtered': False, 'severity': 'safe'}}} id='run-8c229100-f386-45ee-949c-a30e30b02d60-0' usage_metadata={'input_tokens': 86, 'output_tokens': 156, 'total_tokens': 242}\n"
     ]
    }
   ],
   "source": [
    "messages = [\n",
    "    SystemMessage(content=\"あなたは役に立つアシスタントだ。\"),\n",
    "    HumanMessage(content=\"Azure OpenAIはcustomer managed keysをサポートしていますか？\"),\n",
    "    AIMessage(content=\"はい、customer managed keysはAzure OpenAIでサポートされています。\"),\n",
    "    HumanMessage(content=\"他のAzure AIサービスもこれをサポートしていますか？\")\n",
    "]\n",
    "\n",
    "result = model.invoke(messages)\n",
    "print(result)"
   ]
  },
  {
   "cell_type": "code",
   "execution_count": 8,
   "metadata": {},
   "outputs": [
    {
     "data": {
      "text/plain": [
       "True"
      ]
     },
     "execution_count": 8,
     "metadata": {},
     "output_type": "execute_result"
    }
   ],
   "source": [
    "import os\n",
    "from langchain_openai import (\n",
    "    AzureOpenAIEmbeddings,\n",
    "    OpenAIEmbeddings\n",
    ")\n",
    "\n",
    "from dotenv import load_dotenv\n",
    "load_dotenv('../.env')"
   ]
  },
  {
   "cell_type": "code",
   "execution_count": 9,
   "metadata": {},
   "outputs": [],
   "source": [
    "## モデルの取得\n",
    "# 3. OpenAIのembeddingモデル取得\n",
    "embeddings = None\n",
    "if openAI_key != \"\":\n",
    "    # Azureの場合\n",
    "    embeddings = AzureOpenAIEmbeddings(\n",
    "        api_key=openAI_key,\n",
    "        azure_deployment=\"text-embedding-ada-002\", # Azureのデプロイメント名\n",
    "        # openai_api_version=\"2024-10-21\", # OpenAIのAPIバージョン\n",
    "        azure_endpoint=openAI_endpoint\n",
    "    )\n",
    "else:\n",
    "    print(\"APIKeyの設定を確認してください\")"
   ]
  },
  {
   "cell_type": "code",
   "execution_count": 10,
   "metadata": {},
   "outputs": [
    {
     "name": "stdout",
     "output_type": "stream",
     "text": [
      "サイズ:1536\n",
      "5のみ確認\n",
      "[-0.010706953704357147, 0.003498544218018651, -0.003132924670353532, -0.014946800656616688, 0.0025895265862345695]\n"
     ]
    }
   ],
   "source": [
    "text = \"これはテスト用のドキュメントです。\"\n",
    "\n",
    "query_result = embeddings.embed_query(text)\n",
    "print(f\"サイズ:{len(query_result)}\")\n",
    "print(f\"5のみ確認\")\n",
    "print(query_result[:5])"
   ]
  }
 ],
 "metadata": {
  "kernelspec": {
   "display_name": "Python 3",
   "language": "python",
   "name": "python3"
  },
  "language_info": {
   "codemirror_mode": {
    "name": "ipython",
    "version": 3
   },
   "file_extension": ".py",
   "mimetype": "text/x-python",
   "name": "python",
   "nbconvert_exporter": "python",
   "pygments_lexer": "ipython3",
   "version": "3.10.16"
  }
 },
 "nbformat": 4,
 "nbformat_minor": 2
}
